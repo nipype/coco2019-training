{
 "cells": [
  {
   "cell_type": "code",
   "execution_count": 1,
   "metadata": {},
   "outputs": [
    {
     "name": "stderr",
     "output_type": "stream",
     "text": [
      "Failed to import duecredit due to No module named 'duecredit'\n"
     ]
    }
   ],
   "source": [
    "import bids"
   ]
  },
  {
   "cell_type": "code",
   "execution_count": 2,
   "metadata": {},
   "outputs": [
    {
     "data": {
      "text/plain": [
       "<module 'bids' from '/opt/miniconda-latest/lib/python3.6/site-packages/bids/__init__.py'>"
      ]
     },
     "execution_count": 2,
     "metadata": {},
     "output_type": "execute_result"
    }
   ],
   "source": [
    "bids\n"
   ]
  },
  {
   "cell_type": "code",
   "execution_count": 3,
   "metadata": {},
   "outputs": [],
   "source": [
    "layout = bids.BIDSLayout(\"ds000003\")"
   ]
  },
  {
   "cell_type": "code",
   "execution_count": 4,
   "metadata": {},
   "outputs": [
    {
     "data": {
      "text/plain": [
       "BIDS Layout: .../data/ds000003 | Subjects: 13 | Sessions: 0 | Runs: 0"
      ]
     },
     "execution_count": 4,
     "metadata": {},
     "output_type": "execute_result"
    }
   ],
   "source": [
    "layout\n"
   ]
  },
  {
   "cell_type": "code",
   "execution_count": 5,
   "metadata": {},
   "outputs": [
    {
     "data": {
      "text/plain": [
       "[<BIDSFile filename='.git/annex/objects/29/WX/MD5E-s25362403--d72afc284b7608e29ab1e92c75513f69.nii.gz/MD5E-s25362403--d72afc284b7608e29ab1e92c75513f69.nii.gz'>,\n",
       " <BIDSFile filename='.git/annex/objects/J3/q7/MD5E-s664614--0f8bc47f9c3047b340abfcd3ce1fb021.nii.gz/MD5E-s664614--0f8bc47f9c3047b340abfcd3ce1fb021.nii.gz'>,\n",
       " <BIDSFile filename='.git/annex/objects/jJ/2v/MD5E-s5712417--0d1e0a7ff7063250404f45a955a66203.nii.gz/MD5E-s5712417--0d1e0a7ff7063250404f45a955a66203.nii.gz'>,\n",
       " <BIDSFile filename='CHANGES'>,\n",
       " <BIDSFile filename='dataset_description.json'>,\n",
       " <BIDSFile filename='participants.tsv'>,\n",
       " <BIDSFile filename='README'>,\n",
       " <BIDSFile filename='sub-01/anat/sub-01_inplaneT2.nii.gz'>,\n",
       " <BIDSFile filename='sub-01/anat/sub-01_T1w.nii.gz'>,\n",
       " <BIDSFile filename='sub-01/func/sub-01_task-rhymejudgment_bold.nii.gz'>,\n",
       " <BIDSFile filename='sub-01/func/sub-01_task-rhymejudgment_events.tsv'>,\n",
       " <BIDSFile filename='sub-02/anat/sub-02_inplaneT2.nii.gz'>,\n",
       " <BIDSFile filename='sub-02/anat/sub-02_T1w.nii.gz'>,\n",
       " <BIDSFile filename='sub-02/func/sub-02_task-rhymejudgment_bold.nii.gz'>,\n",
       " <BIDSFile filename='sub-02/func/sub-02_task-rhymejudgment_events.tsv'>,\n",
       " <BIDSFile filename='sub-03/anat/sub-03_inplaneT2.nii.gz'>,\n",
       " <BIDSFile filename='sub-03/anat/sub-03_T1w.nii.gz'>,\n",
       " <BIDSFile filename='sub-03/func/sub-03_task-rhymejudgment_bold.nii.gz'>,\n",
       " <BIDSFile filename='sub-03/func/sub-03_task-rhymejudgment_events.tsv'>,\n",
       " <BIDSFile filename='sub-04/anat/sub-04_inplaneT2.nii.gz'>,\n",
       " <BIDSFile filename='sub-04/anat/sub-04_T1w.nii.gz'>,\n",
       " <BIDSFile filename='sub-04/func/sub-04_task-rhymejudgment_bold.nii.gz'>,\n",
       " <BIDSFile filename='sub-04/func/sub-04_task-rhymejudgment_events.tsv'>,\n",
       " <BIDSFile filename='sub-05/anat/sub-05_inplaneT2.nii.gz'>,\n",
       " <BIDSFile filename='sub-05/anat/sub-05_T1w.nii.gz'>,\n",
       " <BIDSFile filename='sub-05/func/sub-05_task-rhymejudgment_bold.nii.gz'>,\n",
       " <BIDSFile filename='sub-05/func/sub-05_task-rhymejudgment_events.tsv'>,\n",
       " <BIDSFile filename='sub-06/anat/sub-06_inplaneT2.nii.gz'>,\n",
       " <BIDSFile filename='sub-06/anat/sub-06_T1w.nii.gz'>,\n",
       " <BIDSFile filename='sub-06/func/sub-06_task-rhymejudgment_bold.nii.gz'>,\n",
       " <BIDSFile filename='sub-06/func/sub-06_task-rhymejudgment_events.tsv'>,\n",
       " <BIDSFile filename='sub-07/anat/sub-07_inplaneT2.nii.gz'>,\n",
       " <BIDSFile filename='sub-07/anat/sub-07_T1w.nii.gz'>,\n",
       " <BIDSFile filename='sub-07/func/sub-07_task-rhymejudgment_bold.nii.gz'>,\n",
       " <BIDSFile filename='sub-07/func/sub-07_task-rhymejudgment_events.tsv'>,\n",
       " <BIDSFile filename='sub-08/anat/sub-08_inplaneT2.nii.gz'>,\n",
       " <BIDSFile filename='sub-08/anat/sub-08_T1w.nii.gz'>,\n",
       " <BIDSFile filename='sub-08/func/sub-08_task-rhymejudgment_bold.nii.gz'>,\n",
       " <BIDSFile filename='sub-08/func/sub-08_task-rhymejudgment_events.tsv'>,\n",
       " <BIDSFile filename='sub-09/anat/sub-09_inplaneT2.nii.gz'>,\n",
       " <BIDSFile filename='sub-09/anat/sub-09_T1w.nii.gz'>,\n",
       " <BIDSFile filename='sub-09/func/sub-09_task-rhymejudgment_bold.nii.gz'>,\n",
       " <BIDSFile filename='sub-09/func/sub-09_task-rhymejudgment_events.tsv'>,\n",
       " <BIDSFile filename='sub-10/anat/sub-10_inplaneT2.nii.gz'>,\n",
       " <BIDSFile filename='sub-10/anat/sub-10_T1w.nii.gz'>,\n",
       " <BIDSFile filename='sub-10/func/sub-10_task-rhymejudgment_bold.nii.gz'>,\n",
       " <BIDSFile filename='sub-10/func/sub-10_task-rhymejudgment_events.tsv'>,\n",
       " <BIDSFile filename='sub-11/anat/sub-11_inplaneT2.nii.gz'>,\n",
       " <BIDSFile filename='sub-11/anat/sub-11_T1w.nii.gz'>,\n",
       " <BIDSFile filename='sub-11/func/sub-11_task-rhymejudgment_bold.nii.gz'>,\n",
       " <BIDSFile filename='sub-11/func/sub-11_task-rhymejudgment_events.tsv'>,\n",
       " <BIDSFile filename='sub-12/anat/sub-12_inplaneT2.nii.gz'>,\n",
       " <BIDSFile filename='sub-12/anat/sub-12_T1w.nii.gz'>,\n",
       " <BIDSFile filename='sub-12/func/sub-12_task-rhymejudgment_bold.nii.gz'>,\n",
       " <BIDSFile filename='sub-12/func/sub-12_task-rhymejudgment_events.tsv'>,\n",
       " <BIDSFile filename='sub-13/anat/sub-13_inplaneT2.nii.gz'>,\n",
       " <BIDSFile filename='sub-13/anat/sub-13_T1w.nii.gz'>,\n",
       " <BIDSFile filename='sub-13/func/sub-13_task-rhymejudgment_bold.nii.gz'>,\n",
       " <BIDSFile filename='sub-13/func/sub-13_task-rhymejudgment_events.tsv'>,\n",
       " <BIDSFile filename='task-rhymejudgment_bold.json'>]"
      ]
     },
     "execution_count": 5,
     "metadata": {},
     "output_type": "execute_result"
    }
   ],
   "source": [
    "layout.get()"
   ]
  },
  {
   "cell_type": "code",
   "execution_count": 6,
   "metadata": {},
   "outputs": [
    {
     "data": {
      "text/plain": [
       "OrderedDict([('bids.subject', <grabbit.core.Entity at 0x7fb7ec35a588>),\n",
       "             ('bids.session', <grabbit.core.Entity at 0x7fb7ec35aa20>),\n",
       "             ('bids.task', <grabbit.core.Entity at 0x7fb7ec35aa58>),\n",
       "             ('bids.acquisition', <grabbit.core.Entity at 0x7fb7ec35ad30>),\n",
       "             ('bids.ce', <grabbit.core.Entity at 0x7fb7ec35a9e8>),\n",
       "             ('bids.reconstruction', <grabbit.core.Entity at 0x7fb7ec35a518>),\n",
       "             ('bids.dir', <grabbit.core.Entity at 0x7fb7ec35aa90>),\n",
       "             ('bids.run', <grabbit.core.Entity at 0x7fb7ec35ab38>),\n",
       "             ('bids.proc', <grabbit.core.Entity at 0x7fb7ec35ac50>),\n",
       "             ('bids.modality', <grabbit.core.Entity at 0x7fb7ec35abe0>),\n",
       "             ('bids.echo', <grabbit.core.Entity at 0x7fb7ec35acc0>),\n",
       "             ('bids.recording', <grabbit.core.Entity at 0x7fb7ec35ae80>),\n",
       "             ('bids.suffix', <grabbit.core.Entity at 0x7fb7ec35ac88>),\n",
       "             ('bids.scans', <grabbit.core.Entity at 0x7fb7ec35ad68>),\n",
       "             ('bids.fmap', <grabbit.core.Entity at 0x7fb7ec35add8>),\n",
       "             ('bids.datatype', <grabbit.core.Entity at 0x7fb7ec35acf8>)])"
      ]
     },
     "execution_count": 6,
     "metadata": {},
     "output_type": "execute_result"
    }
   ],
   "source": [
    "layout.entities"
   ]
  },
  {
   "cell_type": "code",
   "execution_count": 7,
   "metadata": {},
   "outputs": [
    {
     "data": {
      "text/plain": [
       "[<BIDSFile filename='sub-01/anat/sub-01_inplaneT2.nii.gz'>,\n",
       " <BIDSFile filename='sub-01/anat/sub-01_T1w.nii.gz'>,\n",
       " <BIDSFile filename='sub-01/func/sub-01_task-rhymejudgment_bold.nii.gz'>,\n",
       " <BIDSFile filename='sub-01/func/sub-01_task-rhymejudgment_events.tsv'>]"
      ]
     },
     "execution_count": 7,
     "metadata": {},
     "output_type": "execute_result"
    }
   ],
   "source": [
    "layout.get(subject=\"01\")"
   ]
  },
  {
   "cell_type": "code",
   "execution_count": 8,
   "metadata": {},
   "outputs": [
    {
     "data": {
      "text/plain": [
       "['06', '05', '04', '07', '10', '12', '03', '13', '02', '09', '11', '08', '01']"
      ]
     },
     "execution_count": 8,
     "metadata": {},
     "output_type": "execute_result"
    }
   ],
   "source": [
    "layout.get_subjects()"
   ]
  },
  {
   "cell_type": "code",
   "execution_count": 9,
   "metadata": {},
   "outputs": [],
   "source": [
    "from nipype.interfaces.fsl import BET"
   ]
  },
  {
   "cell_type": "code",
   "execution_count": 10,
   "metadata": {},
   "outputs": [
    {
     "data": {
      "text/plain": [
       "'/data/ds000003/sub-01/anat/sub-01_T1w.nii.gz'"
      ]
     },
     "execution_count": 10,
     "metadata": {},
     "output_type": "execute_result"
    }
   ],
   "source": [
    "layout.get(subject=\"01\", suffix=\"T1w\", return_type=\"file\")[0]"
   ]
  },
  {
   "cell_type": "code",
   "execution_count": 13,
   "metadata": {},
   "outputs": [],
   "source": [
    "res=BET(in_file=layout.get(subject=\"01\", suffix=\"T1w\", return_type=\"file\")[0], out_file=\"brain.nii.gz\").run()"
   ]
  },
  {
   "cell_type": "markdown",
   "metadata": {},
   "source": [
    "writting a simple workflow to the script"
   ]
  },
  {
   "cell_type": "code",
   "execution_count": 16,
   "metadata": {},
   "outputs": [
    {
     "name": "stdout",
     "output_type": "stream",
     "text": [
      "Overwriting myscripy.py\n"
     ]
    }
   ],
   "source": [
    "%%writefile myscripy.py\n",
    "\n",
    "import bids\n",
    "from nipype.interfaces.fsl import BET\n",
    "\n",
    "layout = bids.BIDSLayout(\"/data/ds000003\")\n",
    "res=BET(in_file=layout.get(subject=\"01\", suffix=\"T1w\", return_type=\"file\")[0], out_file=\"brain.nii.gz\").run()"
   ]
  },
  {
   "cell_type": "markdown",
   "metadata": {},
   "source": [
    "## in the jupyter terminal"
   ]
  },
  {
   "cell_type": "markdown",
   "metadata": {},
   "source": [
    "```\n",
    "ls /data/ds000003\n",
    "mkdir scripts\n",
    "cp /data/myscripy.py /data/ds000003/scripts\n",
    "git add scripts/myscripy.py\n",
    "git commit -am \"adding the script\"\n",
    "datalad run python scripts/myscripy.py\n",
    "```"
   ]
  },
  {
   "cell_type": "code",
   "execution_count": null,
   "metadata": {},
   "outputs": [],
   "source": []
  }
 ],
 "metadata": {
  "kernelspec": {
   "display_name": "Python 3",
   "language": "python",
   "name": "python3"
  },
  "language_info": {
   "codemirror_mode": {
    "name": "ipython",
    "version": 3
   },
   "file_extension": ".py",
   "mimetype": "text/x-python",
   "name": "python",
   "nbconvert_exporter": "python",
   "pygments_lexer": "ipython3",
   "version": "3.6.7"
  }
 },
 "nbformat": 4,
 "nbformat_minor": 2
}
